{
  "nbformat": 4,
  "nbformat_minor": 0,
  "metadata": {
    "colab": {
      "name": "TWCTamingTransformer.ipynb",
      "provenance": [],
      "include_colab_link": true
    },
    "kernelspec": {
      "name": "python3",
      "display_name": "Python 3"
    },
    "language_info": {
      "name": "python"
    },
    "accelerator": "GPU"
  },
  "cells": [
    {
      "cell_type": "markdown",
      "metadata": {
        "id": "view-in-github",
        "colab_type": "text"
      },
      "source": [
        "<a href=\"https://colab.research.google.com/github/taskswithcode/SimMIM/blob/main/TWCSimMim.ipynb\" target=\"_parent\"><img src=\"https://colab.research.google.com/assets/colab-badge.svg\" alt=\"Open In Colab\"/></a>"
      ]
    },
    {
      "cell_type": "markdown",
      "source": [
        "**Notebook to reproduce results of simMIM**"
      ],
      "metadata": {
        "id": "yqtpHlbk2ehd"
      }
    },
    {
      "cell_type": "markdown",
      "source": [
        "## 1. Check GPU is available"
      ],
      "metadata": {
        "id": "yiIryMjcIWJ4"
      }
    },
    {
      "cell_type": "code",
      "execution_count": 1,
      "metadata": {
        "id": "ZDweTlrgsXQg",
        "outputId": "6a0ad5ed-6f80-47fd-ed4f-6aed4d21b7cf",
        "colab": {
          "base_uri": "https://localhost:8080/"
        }
      },
      "outputs": [
        {
          "output_type": "stream",
          "name": "stdout",
          "text": [
            "Sun Jul 24 20:17:51 2022       \n",
            "+-----------------------------------------------------------------------------+\n",
            "| NVIDIA-SMI 460.32.03    Driver Version: 460.32.03    CUDA Version: 11.2     |\n",
            "|-------------------------------+----------------------+----------------------+\n",
            "| GPU  Name        Persistence-M| Bus-Id        Disp.A | Volatile Uncorr. ECC |\n",
            "| Fan  Temp  Perf  Pwr:Usage/Cap|         Memory-Usage | GPU-Util  Compute M. |\n",
            "|                               |                      |               MIG M. |\n",
            "|===============================+======================+======================|\n",
            "|   0  Tesla T4            Off  | 00000000:00:04.0 Off |                    0 |\n",
            "| N/A   33C    P8     9W /  70W |      0MiB / 15109MiB |      0%      Default |\n",
            "|                               |                      |                  N/A |\n",
            "+-------------------------------+----------------------+----------------------+\n",
            "                                                                               \n",
            "+-----------------------------------------------------------------------------+\n",
            "| Processes:                                                                  |\n",
            "|  GPU   GI   CI        PID   Type   Process name                  GPU Memory |\n",
            "|        ID   ID                                                   Usage      |\n",
            "|=============================================================================|\n",
            "|  No running processes found                                                 |\n",
            "+-----------------------------------------------------------------------------+\n"
          ]
        }
      ],
      "source": [
        "!nvidia-smi"
      ]
    },
    {
      "cell_type": "markdown",
      "source": [
        "## 2. Download config file for access to remote repo"
      ],
      "metadata": {
        "id": "2PVhRppdQmdp"
      }
    },
    {
      "cell_type": "code",
      "source": [
        "!gdown 1wdiXVpTkVcW5MhB8_5JtqpIPKWA2wUTy"
      ],
      "metadata": {
        "id": "DMzTHDLkzKU5"
      },
      "execution_count": null,
      "outputs": []
    },
    {
      "cell_type": "code",
      "source": [
        "!mv s3cfg /root/.s3cfg"
      ],
      "metadata": {
        "id": "qKFH1IoVf7un"
      },
      "execution_count": 3,
      "outputs": []
    },
    {
      "cell_type": "code",
      "source": [
        "!apt-get install s3cmd"
      ],
      "metadata": {
        "id": "CxQcqJu0gD6-"
      },
      "execution_count": null,
      "outputs": []
    },
    {
      "cell_type": "code",
      "source": [
        "!s3cmd ls s3://repos/SimMIM.tar"
      ],
      "metadata": {
        "id": "NiOiIht3gMUI"
      },
      "execution_count": null,
      "outputs": []
    },
    {
      "cell_type": "code",
      "source": [
        "!s3cmd get s3://repos/SimMIM.tar"
      ],
      "metadata": {
        "id": "JH2ve88GgQTv"
      },
      "execution_count": null,
      "outputs": []
    },
    {
      "cell_type": "markdown",
      "source": [
        "## 3. Extract from the tar file and change working directory"
      ],
      "metadata": {
        "id": "f5QgvnGeIikv"
      }
    },
    {
      "cell_type": "code",
      "source": [
        "!tar xvf SimMIM.tar"
      ],
      "metadata": {
        "id": "QcDhSZfisi46"
      },
      "execution_count": null,
      "outputs": []
    },
    {
      "cell_type": "code",
      "source": [
        "cd SimMIM"
      ],
      "metadata": {
        "id": "Fm4FCGzDsj4e",
        "outputId": "c2f68123-26fc-428f-be13-01bb10a29b40",
        "colab": {
          "base_uri": "https://localhost:8080/"
        }
      },
      "execution_count": 11,
      "outputs": [
        {
          "output_type": "stream",
          "name": "stdout",
          "text": [
            "/content/SimMIM\n"
          ]
        }
      ]
    },
    {
      "cell_type": "markdown",
      "source": [
        "## 4. Run sample tests within the environment"
      ],
      "metadata": {
        "id": "xadb6WLlJCrb"
      }
    },
    {
      "cell_type": "code",
      "source": [
        "!(source conda_envs/bin/activate; ./twc_test.sh twc_samples/sample1.png)"
      ],
      "metadata": {
        "id": "uOBM0BMRFFw7"
      },
      "execution_count": null,
      "outputs": []
    },
    {
      "cell_type": "code",
      "source": [
        "!(source conda_envs/bin/activate; ./twc_test.sh twc_samples/sample1.png 2)"
      ],
      "metadata": {
        "id": "yPOfx0_rCkIV"
      },
      "execution_count": null,
      "outputs": []
    },
    {
      "cell_type": "code",
      "source": [
        "!(source conda_envs/bin/activate; ./twc_test.sh twc_samples/sample2.png)"
      ],
      "metadata": {
        "id": "190_mrWqFdY-"
      },
      "execution_count": null,
      "outputs": []
    },
    {
      "cell_type": "code",
      "source": [
        "!(source conda_envs/bin/activate; ./twc_test.sh twc_samples/sample2.png 2)"
      ],
      "metadata": {
        "id": "00Q3XCZbCm0R"
      },
      "execution_count": null,
      "outputs": []
    },
    {
      "cell_type": "code",
      "source": [
        "!(source conda_envs/bin/activate; ./twc_test.sh twc_samples/sample3.png)"
      ],
      "metadata": {
        "id": "Ze1KVPkcF2fn"
      },
      "execution_count": null,
      "outputs": []
    },
    {
      "cell_type": "code",
      "source": [
        "!(source conda_envs/bin/activate; ./twc_test.sh twc_samples/sample3.png 2)"
      ],
      "metadata": {
        "id": "AsApw_cgCqHc"
      },
      "execution_count": null,
      "outputs": []
    },
    {
      "cell_type": "code",
      "source": [
        "!(source conda_envs/bin/activate; ./twc_test.sh twc_samples/imagenet_validation_dog.jpeg)"
      ],
      "metadata": {
        "id": "c_XDiGziCVtS"
      },
      "execution_count": null,
      "outputs": []
    },
    {
      "cell_type": "code",
      "source": [
        "!(source conda_envs/bin/activate; ./twc_test.sh twc_samples/imagenet_validation_dog.jpeg 2)"
      ],
      "metadata": {
        "id": "ez1skmdyCtyo"
      },
      "execution_count": null,
      "outputs": []
    }
  ]
}